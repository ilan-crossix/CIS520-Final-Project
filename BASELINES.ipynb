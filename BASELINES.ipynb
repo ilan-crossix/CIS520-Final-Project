{
 "cells": [
  {
   "cell_type": "code",
   "execution_count": 1,
   "metadata": {},
   "outputs": [
    {
     "name": "stderr",
     "output_type": "stream",
     "text": [
      "/Users/ilangold/anaconda3/lib/python3.6/site-packages/sklearn/cross_validation.py:41: DeprecationWarning: This module was deprecated in version 0.18 in favor of the model_selection module into which all the refactored classes and functions are moved. Also note that the interface of the new CV iterators are different from that of this module. This module will be removed in 0.20.\n",
      "  \"This module will be removed in 0.20.\", DeprecationWarning)\n",
      "Using TensorFlow backend.\n"
     ]
    }
   ],
   "source": [
    "import pandas as pd\n",
    "import numpy as np\n",
    "import sqlite3\n",
    "import scipy as sp\n",
    "import sklearn as skl\n",
    "\n",
    "from sklearn.svm import SVC\n",
    "from sklearn.manifold import TSNE\n",
    "from sklearn.preprocessing import StandardScaler,MinMaxScaler\n",
    "from sklearn.neural_network import MLPRegressor,MLPClassifier\n",
    "import sklearn.model_selection as ms\n",
    "from sklearn.linear_model import LogisticRegression\n",
    "from sklearn.model_selection import train_test_split\n",
    "from sklearn.preprocessing import StandardScaler\n",
    "from sklearn import svm\n",
    "from sklearn.model_selection import cross_val_score, cross_val_predict\n",
    "from sklearn.model_selection import cross_validate,KFold\n",
    "from sklearn import metrics\n",
    "from sklearn import cross_validation\n",
    "from sklearn import preprocessing\n",
    "from sklearn.ensemble import AdaBoostRegressor\n",
    "from sklearn.ensemble import RandomForestRegressor,GradientBoostingClassifier\n",
    "from sklearn.tree import DecisionTreeRegressor,DecisionTreeClassifier\n",
    "import matplotlib.mlab as mlab\n",
    "import matplotlib.pyplot as plt\n",
    "from sklearn.decomposition import PCA\n",
    "from keras.models import Sequential\n",
    "from keras.layers import Dense\n",
    "from keras.wrappers.scikit_learn import KerasRegressor\n",
    "from sklearn.multiclass import OneVsRestClassifier\n",
    "from sklearn.ensemble import RandomForestClassifier\n",
    "from sklearn.ensemble import AdaBoostClassifier\n",
    "from sklearn.ensemble import BaggingClassifier\n",
    "from sklearn.neighbors import RadiusNeighborsRegressor\n",
    "from sklearn.neighbors import KNeighborsRegressor\n",
    "from sklearn import linear_model"
   ]
  },
  {
   "cell_type": "code",
   "execution_count": 2,
   "metadata": {
    "collapsed": true
   },
   "outputs": [],
   "source": [
    "engine = sqlite3.connect('CleanData-Apr15')\n",
    "\n",
    "totaldata_df = pd.read_sql('select * from data', engine)"
   ]
  },
  {
   "cell_type": "code",
   "execution_count": 3,
   "metadata": {
    "collapsed": true
   },
   "outputs": [],
   "source": [
    "scaler = StandardScaler()\n",
    "scaler.fit(totaldata_df[['DistCBD','pop_density','housing_ratio']])\n",
    "totaldata_df[['DistCBD','pop_density','housing_ratio']] =scaler.transform(totaldata_df[['DistCBD','pop_density','housing_ratio']])\n",
    "\n",
    "fdata=totaldata_df.drop(labels=['WIDTH'],axis='columns')\n",
    "\n",
    "wdata=totaldata_df[['WIDTH']]"
   ]
  },
  {
   "cell_type": "code",
   "execution_count": 15,
   "metadata": {},
   "outputs": [
    {
     "name": "stdout",
     "output_type": "stream",
     "text": [
      "['CENTROID_X' 'CENTROID_Y' 'DistCBD' 'pop_density' 'housing_ratio' '0' '1'\n",
      " '2' '3' '4' '5' '6' '7' '8' '9' '10' '11' '12' '13' '14' '15' '16' '17'\n",
      " '18' '19' '20' '21' '22' '23' '24' '25' '26' '27' '28' '29' '30' '31' '32'\n",
      " '33' '34' '35' '36' '37' '38' '39' '40' '41' '42' '43' '44' '45' '46' '47'\n",
      " '48' '49' '50' '51' '52' '53' '54' '55' '56' '57' '58' '59' '60' '61' '62'\n",
      " '63' '64' '65' '66' '67' '68' '69' '70' '71' '72' '73' '74' '75' '76' '77'\n",
      " '78' '79' '80' '81' '82' '83' '84' '85' '86' '87' '88' '89' '90' '91' '92'\n",
      " '93' '94' '95' '96' '97' '98' '99' '100' '101' '102' '103' '104' '105'\n",
      " '106' '107' '108' '109' '110' '111' '112' '113' '114' '115' '116' '117'\n",
      " '118' '119' '120' '121' '122' '123' '124' '125' '126' '127' '128' '129'\n",
      " '130' '131' '132' '133' '134' '135' '136' '137' '138' '139' '140' '141'\n",
      " '142' '143' '144' '145' '146' '147' '148' '149' '150' '151' '152' '153'\n",
      " '154' '155' '156' '157' '158' '159' '160' '161' '162' '163' '164' '165'\n",
      " '166' '167' '168' '169' '170' '171' '172' '173' '174' '175' '176' '177'\n",
      " '178' '179' '180' '181' '182' '183' '184' '185' '186' '187' '188' '189'\n",
      " '190' '191' '192' '193' '194' '195' '196' '197' '198' '199' '200' '201'\n",
      " '202' '203' '204' '205' '206' '207' '208' '209' '210' '211' '212' '213'\n",
      " '214' '215' '216' '217' '218' '219' '220' '221' '222' '223' '224' '225'\n",
      " '226' '227' '228' '229' '230' '231' '232' '233' '234' '235' '236' '237'\n",
      " '238' '239' '240' '241' '242' '243' '244' '245' '246' '247' '248' '249'\n",
      " '250' '251' '252' '253' '254' '255' '256' '257' '258' '259' '260' '261'\n",
      " '262' '263' '264' '265' '266' '267' '268' '269' '270' '271' '272' '273'\n",
      " '274' '275' '276' '277' '278' '279' '280' '281' '282' '283' '284' '285'\n",
      " '286' '287' '288' '289' '290' '291' '292' '293' '294' '295' '296' '297'\n",
      " '298' '299' '300' '301' '302' '303' '304' '305' '306' '307' '308' '309'\n",
      " '310' '311' '312' '313' '314' '315' '316' '317' '318' '319' '320' '321'\n",
      " '322' '323' '324' '325' '326' '327' '328' '329' '330' '331' '332' '333'\n",
      " '334' '335' '336' '337' '338' '339' '340' '341' '342' 'FCC0' 'FCC1' 'FCC2'\n",
      " 'FCC3' 'FCC4' 'FCC5' 'FCC6' 'FCC7' 'ACC0' 'ACC1' 'ACC2' 'ACC3' 'ACC4']\n"
     ]
    }
   ],
   "source": [
    "print(fdata.columns.values)"
   ]
  },
  {
   "cell_type": "code",
   "execution_count": 4,
   "metadata": {
    "collapsed": true
   },
   "outputs": [],
   "source": [
    "X_train, X_test, y_train, y_test = ms.train_test_split(fdata, wdata, test_size=0.3, random_state=42)"
   ]
  },
  {
   "cell_type": "code",
   "execution_count": 17,
   "metadata": {},
   "outputs": [
    {
     "name": "stdout",
     "output_type": "stream",
     "text": [
      "RMSE\n",
      "WIDTH    5.625057\n",
      "dtype: float64\n",
      "MAPE\n",
      "WIDTH    0.49785\n",
      "dtype: float64\n",
      "RMSE\n",
      "WIDTH    4.965686\n",
      "dtype: float64\n",
      "MAPE\n",
      "WIDTH    0.448477\n",
      "dtype: float64\n",
      "RMSE\n",
      "WIDTH    4.704786\n",
      "dtype: float64\n",
      "MAPE\n",
      "WIDTH    0.425673\n",
      "dtype: float64\n",
      "RMSE\n",
      "WIDTH    4.581903\n",
      "dtype: float64\n",
      "MAPE\n",
      "WIDTH    0.416403\n",
      "dtype: float64\n",
      "RMSE\n",
      "WIDTH    4.519524\n",
      "dtype: float64\n",
      "MAPE\n",
      "WIDTH    0.413032\n",
      "dtype: float64\n",
      "RMSE\n",
      "WIDTH    4.460075\n",
      "dtype: float64\n",
      "MAPE\n",
      "WIDTH    0.407911\n",
      "dtype: float64\n",
      "RMSE\n",
      "WIDTH    4.432991\n",
      "dtype: float64\n",
      "MAPE\n",
      "WIDTH    0.406754\n",
      "dtype: float64\n",
      "RMSE\n",
      "WIDTH    4.410473\n",
      "dtype: float64\n",
      "MAPE\n",
      "WIDTH    0.405676\n",
      "dtype: float64\n",
      "RMSE\n",
      "WIDTH    4.383764\n",
      "dtype: float64\n",
      "MAPE\n",
      "WIDTH    0.403854\n",
      "dtype: float64\n",
      "RMSE\n",
      "WIDTH    4.36783\n",
      "dtype: float64\n",
      "MAPE\n",
      "WIDTH    0.403166\n",
      "dtype: float64\n"
     ]
    }
   ],
   "source": [
    "#NN Baseline\n",
    "for i in range(1, 11):\n",
    "    nn = KNeighborsRegressor(n_neighbors= i)\n",
    "    nn.fit(X_train[['CENTROID_X', 'CENTROID_Y']], y_train)\n",
    "    pred = nn.predict(X_test[['CENTROID_X', 'CENTROID_Y']])\n",
    "    print('RMSE')\n",
    "    print(np.sqrt(np.sum(np.square(pred - y_test) / len(pred))))\n",
    "    print('MAPE')\n",
    "    print(np.sum(np.divide(np.abs(pred - y_test), y_test)) * (1 / len(pred)))"
   ]
  },
  {
   "cell_type": "code",
   "execution_count": 8,
   "metadata": {
    "collapsed": true
   },
   "outputs": [],
   "source": [
    "err_sq = [0, 0, 0, 0 , 0]\n",
    "err_perc = [0, 0, 0, 0, 0]\n",
    "param = ['DistCBD',  '+Demographic','+ Road Types', '+Centroid', '+MSA']"
   ]
  },
  {
   "cell_type": "code",
   "execution_count": 9,
   "metadata": {},
   "outputs": [
    {
     "name": "stdout",
     "output_type": "stream",
     "text": [
      "RMSE\n",
      "4.37558302774\n",
      "MAPE\n",
      "WIDTH    0.407994\n",
      "dtype: float64\n"
     ]
    }
   ],
   "source": [
    "#OLS with just distCBD\n",
    "reg = linear_model.LinearRegression()\n",
    "reg.fit(X_train[['pop_density', 'housing_ratio']], y_train)\n",
    "pred = reg.predict(X_test[['pop_density', 'housing_ratio']])\n",
    "print('RMSE')\n",
    "print(np.sqrt(np.sum(np.square(pred - y_test) / len(pred)))[0])\n",
    "err_sq[0] = np.sqrt(np.sum(np.square(pred - y_test) / len(pred)))[0]\n",
    "print('MAPE')\n",
    "print(np.sum(np.divide(np.abs(pred - y_test), y_test)) * (1 / len(pred)))\n",
    "err_perc[0] = (np.sum(np.divide(np.abs(pred - y_test), y_test)) * (1 / len(pred)))[0]"
   ]
  },
  {
   "cell_type": "code",
   "execution_count": 10,
   "metadata": {},
   "outputs": [
    {
     "name": "stdout",
     "output_type": "stream",
     "text": [
      "RMSE\n",
      "WIDTH    4.358981\n",
      "dtype: float64\n",
      "MAPE\n",
      "WIDTH    0.403572\n",
      "dtype: float64\n"
     ]
    }
   ],
   "source": [
    "#OLS with now FCC added in\n",
    "reg = linear_model.LinearRegression()\n",
    "reg.fit(X_train[['DistCBD','pop_density', 'housing_ratio']], y_train)\n",
    "pred = reg.predict(X_test[['DistCBD', 'pop_density', 'housing_ratio']])\n",
    "print('RMSE')\n",
    "print(np.sqrt(np.sum(np.square(pred - y_test) / len(pred))))\n",
    "err_sq[1] = np.sqrt(np.sum(np.square(pred - y_test) / len(pred)))[0]\n",
    "print('MAPE')\n",
    "print(np.sum(np.divide(np.abs(pred - y_test), y_test)) * (1 / len(pred)))\n",
    "err_perc[1] = (np.sum(np.divide(np.abs(pred - y_test), y_test)) * (1 / len(pred)))[0]"
   ]
  },
  {
   "cell_type": "code",
   "execution_count": 11,
   "metadata": {},
   "outputs": [
    {
     "name": "stdout",
     "output_type": "stream",
     "text": [
      "RMSE\n",
      "WIDTH    4.003104\n",
      "dtype: float64\n",
      "MAPE\n",
      "WIDTH    0.361505\n",
      "dtype: float64\n"
     ]
    }
   ],
   "source": [
    "#OLS with now demograph added in\n",
    "reg = linear_model.LinearRegression()\n",
    "reg.fit(X_train[['DistCBD', 'FCC0', 'FCC1', 'FCC2', 'FCC3', 'FCC4', 'FCC5', 'FCC6', 'FCC7', 'ACC0', 'ACC1', 'ACC2', 'ACC3', 'ACC4', 'pop_density', 'housing_ratio']], y_train)\n",
    "pred = reg.predict(X_test[['DistCBD', 'FCC0', 'FCC1', 'FCC2', 'FCC3', 'FCC4', 'FCC5', 'FCC6', 'FCC7','ACC0', 'ACC1', 'ACC2', 'ACC3',  'ACC4', 'pop_density', 'housing_ratio']])\n",
    "print('RMSE')\n",
    "print(np.sqrt(np.sum(np.square(pred - y_test) / len(pred))))\n",
    "err_sq[2] = np.sqrt(np.sum(np.square(pred - y_test) / len(pred)))[0]\n",
    "print('MAPE')\n",
    "print(np.sum(np.divide(np.abs(pred - y_test), y_test)) * (1 / len(pred)))\n",
    "err_perc[2] = (np.sum(np.divide(np.abs(pred - y_test), y_test)) * (1 / len(pred)))[0]"
   ]
  },
  {
   "cell_type": "code",
   "execution_count": 12,
   "metadata": {},
   "outputs": [
    {
     "name": "stdout",
     "output_type": "stream",
     "text": [
      "RMSE\n",
      "WIDTH    3.993419\n",
      "dtype: float64\n",
      "MAPE\n",
      "WIDTH    0.360158\n",
      "dtype: float64\n"
     ]
    }
   ],
   "source": [
    "#OLS with now centroid added in\n",
    "reg = linear_model.LinearRegression()\n",
    "reg.fit(X_train[['DistCBD', 'FCC0', 'FCC1', 'FCC2', 'FCC3', 'FCC4', 'FCC5', 'FCC6', 'FCC7', 'ACC0', 'ACC1', 'ACC2', 'ACC3', 'ACC4', 'pop_density', 'housing_ratio', 'CENTROID_X', 'CENTROID_Y']], y_train)\n",
    "pred = reg.predict(X_test[['DistCBD', 'FCC0', 'FCC1', 'FCC2', 'FCC3', 'FCC4', 'FCC5', 'FCC6', 'FCC7','ACC0', 'ACC1', 'ACC2', 'ACC3', 'ACC4', 'pop_density', 'housing_ratio', 'CENTROID_X', 'CENTROID_Y']])\n",
    "print('RMSE')\n",
    "print(np.sqrt(np.sum(np.square(pred - y_test) / len(pred))))\n",
    "err_sq[3] = np.sqrt(np.sum(np.square(pred - y_test) / len(pred)))[0]\n",
    "print('MAPE')\n",
    "print(np.sum(np.divide(np.abs(pred - y_test), y_test)) * (1 / len(pred)))\n",
    "err_perc[3] = (np.sum(np.divide(np.abs(pred - y_test), y_test)) * (1 / len(pred)))[0]"
   ]
  },
  {
   "cell_type": "code",
   "execution_count": 27,
   "metadata": {},
   "outputs": [
    {
     "name": "stdout",
     "output_type": "stream",
     "text": [
      "RMSE\n",
      "WIDTH    3.924879\n",
      "dtype: float64\n",
      "MAPE\n",
      "WIDTH    0.345449\n",
      "dtype: float64\n"
     ]
    }
   ],
   "source": [
    "#OLS with now everything\n",
    "reg = linear_model.LinearRegression()\n",
    "reg.fit(X_train, y_train)\n",
    "pred = reg.predict(X_test)\n",
    "print('RMSE')\n",
    "print(np.sqrt(np.sum(np.square(pred - y_test) / len(pred))))\n",
    "err_sq[4] = np.sqrt(np.sum(np.square(pred - y_test) / len(pred)))[0]\n",
    "print('MAPE')\n",
    "print(np.sum(np.divide(np.abs(pred - y_test), y_test) * (1 / len(pred))))\n",
    "err_perc[4] = (np.sum(np.divide(np.abs(pred - y_test), y_test) * (1 / len(pred))))[0]"
   ]
  },
  {
   "cell_type": "code",
   "execution_count": 23,
   "metadata": {},
   "outputs": [
    {
     "name": "stdout",
     "output_type": "stream",
     "text": [
      "['CENTROID_X' 'CENTROID_Y' 'DistCBD' 'pop_density' 'housing_ratio' '0' '1'\n",
      " '2' '3' '4' '5' '6' '7' '8' '9' '10' '11' '12' '13' '14' '15' '16' '17'\n",
      " '18' '19' '20' '21' '22' '23' '24' '25' '26' '27' '28' '29' '30' '31' '32'\n",
      " '33' '34' '35' '36' '37' '38' '39' '40' '41' '42' '43' '44' '45' '46' '47'\n",
      " '48' '49' '50' '51' '52' '53' '54' '55' '56' '57' '58' '59' '60' '61' '62'\n",
      " '63' '64' '65' '66' '67' '68' '69' '70' '71' '72' '73' '74' '75' '76' '77'\n",
      " '78' '79' '80' '81' '82' '83' '84' '85' '86' '87' '88' '89' '90' '91' '92'\n",
      " '93' '94' '95' '96' '97' '98' '99' '100' '101' '102' '103' '104' '105'\n",
      " '106' '107' '108' '109' '110' '111' '112' '113' '114' '115' '116' '117'\n",
      " '118' '119' '120' '121' '122' '123' '124' '125' '126' '127' '128' '129'\n",
      " '130' '131' '132' '133' '134' '135' '136' '137' '138' '139' '140' '141'\n",
      " '142' '143' '144' '145' '146' '147' '148' '149' '150' '151' '152' '153'\n",
      " '154' '155' '156' '157' '158' '159' '160' '161' '162' '163' '164' '165'\n",
      " '166' '167' '168' '169' '170' '171' '172' '173' '174' '175' '176' '177'\n",
      " '178' '179' '180' '181' '182' '183' '184' '185' '186' '187' '188' '189'\n",
      " '190' '191' '192' '193' '194' '195' '196' '197' '198' '199' '200' '201'\n",
      " '202' '203' '204' '205' '206' '207' '208' '209' '210' '211' '212' '213'\n",
      " '214' '215' '216' '217' '218' '219' '220' '221' '222' '223' '224' '225'\n",
      " '226' '227' '228' '229' '230' '231' '232' '233' '234' '235' '236' '237'\n",
      " '238' '239' '240' '241' '242' '243' '244' '245' '246' '247' '248' '249'\n",
      " '250' '251' '252' '253' '254' '255' '256' '257' '258' '259' '260' '261'\n",
      " '262' '263' '264' '265' '266' '267' '268' '269' '270' '271' '272' '273'\n",
      " '274' '275' '276' '277' '278' '279' '280' '281' '282' '283' '284' '285'\n",
      " '286' '287' '288' '289' '290' '291' '292' '293' '294' '295' '296' '297'\n",
      " '298' '299' '300' '301' '302' '303' '304' '305' '306' '307' '308' '309'\n",
      " '310' '311' '312' '313' '314' '315' '316' '317' '318' '319' '320' '321'\n",
      " '322' '323' '324' '325' '326' '327' '328' '329' '330' '331' '332' '333'\n",
      " '334' '335' '336' '337' '338' '339' '340' '341' '342' 'FCC0' 'FCC1' 'FCC2'\n",
      " 'FCC3' 'FCC4' 'FCC5' 'FCC6' 'FCC7' 'ACC0' 'ACC1' 'ACC2' 'ACC3' 'ACC4'\n",
      " 'centroid']\n"
     ]
    }
   ],
   "source": [
    "#now add in the NN centroid prediction\n",
    "nn = KNeighborsRegressor(n_neighbors= 10)\n",
    "nn.fit(X_train[['CENTROID_X', 'CENTROID_Y']], y_train)\n",
    "feat = nn.predict(fdata[['CENTROID_X', 'CENTROID_Y']])\n",
    "fdata = pd.concat([fdata, pd.DataFrame(feat, columns=['centroid'])], axis=1)\n",
    "print(fdata.columns.values)"
   ]
  },
  {
   "cell_type": "code",
   "execution_count": 38,
   "metadata": {},
   "outputs": [
    {
     "name": "stdout",
     "output_type": "stream",
     "text": [
      "[4.3755830277384513, 4.3589806805056579, 4.0031040369393578, 3.993418980954254, 3.9248793253417094]\n",
      "[0.40799429647428159, 0.40357216982119837, 0.36150502116844413, 0.36015840427621199, 0.34544942138281776]\n"
     ]
    }
   ],
   "source": [
    "print(err_sq)\n",
    "print(err_perc)"
   ]
  },
  {
   "cell_type": "code",
   "execution_count": 25,
   "metadata": {
    "collapsed": true
   },
   "outputs": [],
   "source": [
    "#new test-train split\n",
    "X_train, X_test, y_train, y_test = ms.train_test_split(fdata, wdata, test_size=0.3, random_state=42)"
   ]
  },
  {
   "cell_type": "code",
   "execution_count": 25,
   "metadata": {},
   "outputs": [
    {
     "name": "stdout",
     "output_type": "stream",
     "text": [
      "RMSE\n",
      "WIDTH    3.972243\n",
      "dtype: float64\n",
      "MAPE\n",
      "WIDTH    0.356453\n",
      "dtype: float64\n"
     ]
    }
   ],
   "source": [
    "#OLS with now everything + centroids\n",
    "reg = linear_model.LinearRegression()\n",
    "reg.fit(X_train.drop(labels = ['DistCBD', 'pop_density', \"housing_ratio\"], axis = 1), y_train)\n",
    "pred = reg.predict(X_test.drop(labels = ['DistCBD', 'pop_density', \"housing_ratio\"], axis = 1))\n",
    "print('RMSE')\n",
    "print(np.sqrt(np.sum(np.square(pred - y_test) / len(pred))))\n",
    "print('MAPE')\n",
    "print(np.sum(np.divide(np.abs(pred - y_test), y_test)) * (1 / len(pred)))"
   ]
  },
  {
   "cell_type": "code",
   "execution_count": 56,
   "metadata": {},
   "outputs": [
    {
     "name": "stdout",
     "output_type": "stream",
     "text": [
      "RMSE\n",
      "WIDTH    3.92462\n",
      "dtype: float64\n",
      "MAPE\n",
      "WIDTH    0.345311\n",
      "dtype: float64\n",
      "RMSE\n",
      "WIDTH    3.92462\n",
      "dtype: float64\n",
      "MAPE\n",
      "WIDTH    0.345311\n",
      "dtype: float64\n",
      "RMSE\n",
      "WIDTH    3.924617\n",
      "dtype: float64\n",
      "MAPE\n",
      "WIDTH    0.34531\n",
      "dtype: float64\n",
      "RMSE\n",
      "WIDTH    3.92459\n",
      "dtype: float64\n",
      "MAPE\n",
      "WIDTH    0.345306\n",
      "dtype: float64\n",
      "RMSE\n",
      "WIDTH    3.924332\n",
      "dtype: float64\n",
      "MAPE\n",
      "WIDTH    0.345271\n",
      "dtype: float64\n",
      "RMSE\n",
      "WIDTH    3.922489\n",
      "dtype: float64\n",
      "MAPE\n",
      "WIDTH    0.345059\n",
      "dtype: float64\n"
     ]
    }
   ],
   "source": [
    "#RIDGE with now everything, trying out different parameters (not much improvement)\n",
    "for i in [.00001, .0001, .001, .01, .1, 1]:\n",
    "    reg = linear_model.Ridge(alpha=i)\n",
    "    reg.fit(X_train, y_train)\n",
    "    pred = reg.predict(X_test)\n",
    "    print('RMSE')\n",
    "    print(np.sqrt(np.sum(np.square(pred - y_test) / len(pred))))\n",
    "    print('MAPE')\n",
    "    print(np.sum(np.divide(np.abs(pred - y_test), y_test)) * (1 / len(pred)))"
   ]
  },
  {
   "cell_type": "code",
   "execution_count": 28,
   "metadata": {},
   "outputs": [
    {
     "data": {
      "image/png": "[encoded data removed]",
      "text/plain": [
       "<matplotlib.figure.Figure at 0x1a32c5bc18>"
      ]
     },
     "metadata": {},
     "output_type": "display_data"
    }
   ],
   "source": [
    "fig = plt.figure()\n",
    "plt.scatter(fdata['CENTROID_X'], fdata['CENTROID_Y'])\n",
    "plt.title('Road Plot by Centroid')\n",
    "plt.savefig('Centroid Plot')\n",
    "plt.show()"
   ]
  },
  {
   "cell_type": "code",
   "execution_count": 47,
   "metadata": {},
   "outputs": [
    {
     "data": {
      "image/png": "[encoded data removed]",
      "text/plain": [
       "<matplotlib.figure.Figure at 0x1a44617c50>"
      ]
     },
     "metadata": {},
     "output_type": "display_data"
    }
   ],
   "source": [
    "plt.plot(np.array(err_sq), 'r--', 10 *  np.array(err_perc), 'bs')\n",
    "plt.show()"
   ]
  },
  {
   "cell_type": "code",
   "execution_count": 44,
   "metadata": {},
   "outputs": [
    {
     "data": {
      "text/plain": [
       "[4.395119894866137,\n",
       " 4.0340278577223243,\n",
       " 4.016757150086403,\n",
       " 4.0075926268965549,\n",
       " 3.9248793253417094]"
      ]
     },
     "execution_count": 44,
     "metadata": {},
     "output_type": "execute_result"
    }
   ],
   "source": [
    "err_sq"
   ]
  },
  {
   "cell_type": "code",
   "execution_count": null,
   "metadata": {
    "collapsed": true
   },
   "outputs": [],
   "source": []
  }
 ],
 "metadata": {
  "kernelspec": {
   "display_name": "Python 3",
   "language": "python",
   "name": "python3"
  },
  "language_info": {
   "codemirror_mode": {
    "name": "ipython",
    "version": 3
   },
   "file_extension": ".py",
   "mimetype": "text/x-python",
   "name": "python",
   "nbconvert_exporter": "python",
   "pygments_lexer": "ipython3",
   "version": "3.6.3"
  }
 },
 "nbformat": 4,
 "nbformat_minor": 2
}
