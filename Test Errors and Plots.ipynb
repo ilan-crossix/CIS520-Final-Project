{
 "cells": [
  {
   "cell_type": "code",
   "execution_count": 22,
   "metadata": {},
   "outputs": [],
   "source": [
    "import pandas as pd\n",
    "import numpy as np\n",
    "import sqlite3\n",
    "import scipy as sp\n",
    "import sklearn as skl\n",
    "\n",
    "from sklearn.svm import SVC\n",
    "from sklearn.manifold import TSNE\n",
    "from sklearn.preprocessing import StandardScaler,MinMaxScaler\n",
    "from sklearn.neural_network import MLPRegressor,MLPClassifier\n",
    "import sklearn.model_selection as ms\n",
    "from sklearn.linear_model import LogisticRegression\n",
    "from sklearn.model_selection import train_test_split\n",
    "from sklearn.preprocessing import StandardScaler\n",
    "from sklearn import svm\n",
    "from sklearn.model_selection import cross_val_score, cross_val_predict\n",
    "from sklearn.model_selection import cross_validate,KFold\n",
    "from sklearn import metrics\n",
    "from sklearn import cross_validation\n",
    "from sklearn import preprocessing\n",
    "from sklearn.ensemble import AdaBoostRegressor\n",
    "from sklearn.ensemble import RandomForestRegressor,GradientBoostingClassifier,GradientBoostingRegressor\n",
    "from sklearn.tree import DecisionTreeRegressor,DecisionTreeClassifier\n",
    "import matplotlib.mlab as mlab\n",
    "import matplotlib.pyplot as plt\n",
    "from sklearn.decomposition import PCA\n",
    "from keras.models import Sequential\n",
    "from keras.layers import Dense\n",
    "from keras.wrappers.scikit_learn import KerasRegressor\n",
    "from sklearn.multiclass import OneVsRestClassifier\n",
    "from sklearn.ensemble import RandomForestClassifier\n",
    "from sklearn.ensemble import AdaBoostClassifier\n",
    "from sklearn.ensemble import BaggingClassifier\n",
    "from sklearn.neighbors import RadiusNeighborsRegressor\n",
    "from sklearn.neighbors import KNeighborsRegressor\n",
    "from sklearn import linear_model\n",
    "import keras\n",
    "from keras import optimizers,regularizers\n"
   ]
  },
  {
   "cell_type": "code",
   "execution_count": 23,
   "metadata": {},
   "outputs": [],
   "source": [
    "#import data\n",
    "engine = sqlite3.connect('CleanData-Apr15')\n",
    "totaldata_df = pd.read_sql('select * from data', engine)\n"
   ]
  },
  {
   "cell_type": "code",
   "execution_count": 24,
   "metadata": {},
   "outputs": [
    {
     "name": "stderr",
     "output_type": "stream",
     "text": [
      "C:\\Users\\Umair\\AppData\\Local\\conda\\conda\\envs\\tensorflow\\lib\\site-packages\\ipykernel_launcher.py:5: SettingWithCopyWarning: \n",
      "A value is trying to be set on a copy of a slice from a DataFrame.\n",
      "Try using .loc[row_indexer,col_indexer] = value instead\n",
      "\n",
      "See the caveats in the documentation: http://pandas.pydata.org/pandas-docs/stable/indexing.html#indexing-view-versus-copy\n",
      "  \"\"\"\n",
      "C:\\Users\\Umair\\AppData\\Local\\conda\\conda\\envs\\tensorflow\\lib\\site-packages\\pandas\\core\\indexing.py:537: SettingWithCopyWarning: \n",
      "A value is trying to be set on a copy of a slice from a DataFrame.\n",
      "Try using .loc[row_indexer,col_indexer] = value instead\n",
      "\n",
      "See the caveats in the documentation: http://pandas.pydata.org/pandas-docs/stable/indexing.html#indexing-view-versus-copy\n",
      "  self.obj[item] = s\n",
      "C:\\Users\\Umair\\AppData\\Local\\conda\\conda\\envs\\tensorflow\\lib\\site-packages\\ipykernel_launcher.py:6: SettingWithCopyWarning: \n",
      "A value is trying to be set on a copy of a slice from a DataFrame.\n",
      "Try using .loc[row_indexer,col_indexer] = value instead\n",
      "\n",
      "See the caveats in the documentation: http://pandas.pydata.org/pandas-docs/stable/indexing.html#indexing-view-versus-copy\n",
      "  \n"
     ]
    }
   ],
   "source": [
    "#split and scale\n",
    "train_data, test_data= ms.train_test_split(totaldata_df, test_size=0.3, random_state=42)\n",
    "scaler = StandardScaler()\n",
    "scaler.fit(train_data[['CENTROID_X','CENTROID_Y','DistCBD','pop_density','housing_ratio']])\n",
    "train_data[['CENTROID_X','CENTROID_Y','DistCBD','pop_density','housing_ratio']] =scaler.transform(train_data[['CENTROID_X','CENTROID_Y','DistCBD','pop_density','housing_ratio']])\n",
    "test_data[['CENTROID_X','CENTROID_Y','DistCBD','pop_density','housing_ratio']] =scaler.transform(test_data[['CENTROID_X','CENTROID_Y','DistCBD','pop_density','housing_ratio']])\n",
    "\n",
    "X_train=train_data.drop(labels=['WIDTH'],axis='columns')\n",
    "y_train=train_data[['WIDTH']]\n",
    "\n",
    "X_test=test_data.drop(labels=['WIDTH'],axis='columns')\n",
    "y_test=test_data[['WIDTH']]\n",
    "\n"
   ]
  },
  {
   "cell_type": "code",
   "execution_count": 25,
   "metadata": {},
   "outputs": [],
   "source": [
    "wdataval=y_train.values\n",
    "std=wdataval.std()/2\n",
    "lb=wdataval.mean()-wdataval.std()/2\n",
    "ub=wdataval.mean()+wdataval.std()/2\n",
    "mean=wdataval.mean()"
   ]
  },
  {
   "cell_type": "code",
   "execution_count": 26,
   "metadata": {},
   "outputs": [],
   "source": [
    "def error_bounded(err_matnew,l=0,u=1000,verbose=0):\n",
    "    err_matnew=err_matnew[(err_matnew[:,0]<=u)&(err_matnew[:,0]>=l)]\n",
    "    temp1=np.square(err_matnew[:,1]-err_matnew[:,0])\n",
    "    temp2=np.abs(err_matnew[:,1]-err_matnew[:,0])\n",
    "    temp3=np.divide(temp2,err_matnew[:,0])\n",
    "    if verbose==1:\n",
    "        print('error: for '+str(l)+'=<width<='+str(u))\n",
    "        print(np.array([np.sqrt(sum(temp1)/temp1.shape[0]),sum(temp2)/temp1.shape[0],100*sum(temp3)/temp1.shape[0]]))\n",
    "        print('\\n')\n",
    "    return np.array([np.sqrt(sum(temp1)/temp1.shape[0]),sum(temp2)/temp1.shape[0],100*sum(temp3)/temp1.shape[0]])"
   ]
  },
  {
   "cell_type": "code",
   "execution_count": 27,
   "metadata": {},
   "outputs": [],
   "source": [
    "def keras_nn_model(dim,act,l1,reg=1e-5):\n",
    "    model = Sequential()\n",
    "    model.add(Dense(l1, input_dim=dim, kernel_initializer='uniform', activation=act,kernel_regularizer=regularizers.l2(reg)))\n",
    "    model.add(Dense(1, kernel_initializer='uniform'))\n",
    "    adam=keras.optimizers.Adam(lr=0.001, beta_1=0.9, beta_2=0.999, epsilon=1e-8, decay=0.0, amsgrad=False)\n",
    "    model.compile(loss='mean_absolute_percentage_error', optimizer=adam)\n",
    "    return model"
   ]
  },
  {
   "cell_type": "code",
   "execution_count": 28,
   "metadata": {},
   "outputs": [],
   "source": [
    "def cross_val_keras(input_data,test_data,input_labels,test_labels,layer,reg,act,verbose=0):\n",
    "    test_labels=test_labels.ravel()\n",
    "    input_labels=input_labels.ravel()\n",
    "    err_matnew=np.empty((1,2))\n",
    "    kf = KFold(n_splits=7,random_state=9, shuffle=True)\n",
    "    seed = 9\n",
    "    np.random.seed(seed)\n",
    "    count=0\n",
    "    for train_index, test_index in kf.split(input_data):\n",
    "        X_cvtrain = input_data.iloc[train_index]\n",
    "        X_cvtest = input_data.iloc[test_index]\n",
    "\n",
    "        y_cvtrain = input_labels[train_index]\n",
    "        y_cvtrain=y_cvtrain.squeeze()\n",
    "        y_cvtrain=y_cvtrain.ravel()\n",
    "\n",
    "        y_cvtest = input_labels[test_index]\n",
    "        y_cvtest=y_cvtest.squeeze()\n",
    "        y_cvtest=y_cvtest.ravel()\n",
    "                    \n",
    "        keras_model=keras_nn_model(X_cvtrain.shape[1],act,layer,reg)\n",
    "        keras_model.fit(x=X_cvtrain, y=y_cvtrain, batch_size=200, epochs=5, verbose=0, validation_split=0, shuffle=True, class_weight=None, sample_weight=None, initial_epoch=0, steps_per_epoch=None, validation_steps=None)\n",
    "        predictions=keras_model.predict(X_cvtest, batch_size=None, verbose=0, steps=None).ravel()\n",
    "        \n",
    "        err_vec=np.column_stack((y_cvtest,predictions))\n",
    "        err_matnew=np.concatenate((err_matnew,err_vec),axis=0)\n",
    "        temp1=np.square(predictions-y_cvtest)\n",
    "        temp2=np.abs(predictions-y_cvtest)\n",
    "        temp3=np.divide(temp2,y_cvtest)\n",
    "        count+=1\n",
    "        if verbose==1:\n",
    "            print('cv error: '+str(count)+' Fold')\n",
    "            print(np.array([np.sqrt(sum(temp1)/temp1.shape[0]),sum(temp2)/temp1.shape[0],100*sum(temp3)/temp1.shape[0]]))\n",
    "\n",
    "    err_matnew=err_matnew[1:,:]     \n",
    "    \n",
    "    temp1=np.square(err_matnew[:,1]-err_matnew[:,0])\n",
    "    temp2=np.abs(err_matnew[:,1]-err_matnew[:,0])\n",
    "    temp3=np.divide(temp2,err_matnew[:,0])\n",
    "    cv_error=np.array([np.sqrt(sum(temp1)/temp1.shape[0]),sum(temp2)/temp1.shape[0],100*sum(temp3)/temp1.shape[0]])\n",
    "    print('cv_error:')\n",
    "    print(cv_error)\n",
    "    return cv_error,err_matnew"
   ]
  },
  {
   "cell_type": "code",
   "execution_count": 29,
   "metadata": {},
   "outputs": [],
   "source": [
    "def cross_val(input_data,test_data,input_labels,test_labels,model=linear_model.LinearRegression(),model_type='other',verbose=0):\n",
    "    \n",
    "    test_labels=test_labels.ravel()\n",
    "    input_labels=input_labels.ravel()\n",
    "    err_matnew=np.empty((1,2))\n",
    "    kf = KFold(n_splits=8,random_state=9, shuffle=True)\n",
    "    seed = 9\n",
    "    np.random.seed(seed)\n",
    "    count=0\n",
    "    for train_index, test_index in kf.split(input_data):\n",
    "        X_cvtrain = input_data[train_index]\n",
    "        X_cvtest = input_data[test_index]\n",
    "\n",
    "        y_cvtrain = input_labels[train_index]\n",
    "        y_cvtrain=y_cvtrain.squeeze()\n",
    "        y_cvtrain=y_cvtrain.ravel()\n",
    "\n",
    "        y_cvtest = input_labels[test_index]\n",
    "        y_cvtest=y_cvtest.squeeze()\n",
    "        y_cvtest=y_cvtest.ravel()\n",
    "        \n",
    "        model.fit(X_cvtrain,y_cvtrain)\n",
    "        predictions = model.predict(X_cvtest).ravel()\n",
    "\n",
    "        err_vec=np.column_stack((y_cvtest,predictions))\n",
    "        err_matnew=np.concatenate((err_matnew,err_vec),axis=0)\n",
    "\n",
    "        temp1=np.square(predictions-y_cvtest)\n",
    "        temp2=np.abs(predictions-y_cvtest)\n",
    "        temp3=np.divide(temp2,y_cvtest)\n",
    "        count+=1\n",
    "        if verbose==1:\n",
    "            print('cv error: '+str(count)+' Fold')\n",
    "            print(np.array([np.sqrt(sum(temp1)/temp1.shape[0]),sum(temp2)/temp1.shape[0],100*sum(temp3)/temp1.shape[0]]))\n",
    "\n",
    "    err_matnew=err_matnew[1:,:]     \n",
    "    \n",
    "    temp1=np.square(err_matnew[:,1]-err_matnew[:,0])\n",
    "    temp2=np.abs(err_matnew[:,1]-err_matnew[:,0])\n",
    "    temp3=np.divide(temp2,err_matnew[:,0])\n",
    "    cv_error=np.array([np.sqrt(sum(temp1)/temp1.shape[0]),sum(temp2)/temp1.shape[0],100*sum(temp3)/temp1.shape[0]])\n",
    "    print('cv_error:')\n",
    "    print(cv_error)\n",
    "    return cv_error,err_matnew"
   ]
  },
  {
   "cell_type": "code",
   "execution_count": 30,
   "metadata": {},
   "outputs": [],
   "source": [
    "#learn MAPE test error on various road widths\n",
    "keras_model=keras_nn_model(X_train.shape[1],'relu',100,0)\n",
    "keras_model.fit(x=X_train, y=y_train.values.ravel(), batch_size=200, epochs=10, verbose=0, validation_split=0, shuffle=True, class_weight=None, sample_weight=None, initial_epoch=0, steps_per_epoch=None, validation_steps=None)\n",
    "pred=keras_model.predict(X_test, batch_size=None, verbose=0, steps=None)\n",
    "rkeras=[error_bounded(np.column_stack((y_test.values.ravel(),pred)),2,lb)[-1],error_bounded(np.column_stack((y_test.values.ravel(),pred)),lb,ub)[-1],error_bounded(np.column_stack((y_test.values.ravel(),pred)),ub,1000)[-1]]\n",
    "\n",
    "mlp = MLPRegressor(hidden_layer_sizes=100,activation='relu', max_iter=1000, alpha=1, early_stopping=True,random_state=42)\n",
    "mlp.fit(X_train,y_train.values.ravel())\n",
    "pred=mlp.predict(X_test)\n",
    "rmlp=[error_bounded(np.column_stack((y_test.values.ravel(),pred)),2,lb)[-1],error_bounded(np.column_stack((y_test.values.ravel(),pred)),lb,ub)[-1],error_bounded(np.column_stack((y_test.values.ravel(),pred)),ub,1000)[-1]]\n",
    "\n",
    "regr = RandomForestRegressor(n_estimators = 30, min_samples_split = 68, random_state=42)\n",
    "regr.fit(X_train,y_train.values.ravel())\n",
    "pred = regr.predict(X_test)\n",
    "rrf=[error_bounded(np.column_stack((y_test.values.ravel(),pred)),2,lb)[-1],error_bounded(np.column_stack((y_test.values.ravel(),pred)),lb,ub)[-1],error_bounded(np.column_stack((y_test.values.ravel(),pred)),ub,1000)[-1]]\n",
    "\n",
    "reg = linear_model.LinearRegression()\n",
    "reg.fit(X_train, y_train)\n",
    "pred = reg.predict(X_test)\n",
    "error_bounded(np.column_stack((y_test.values.ravel(),pred)))\n",
    "\n",
    "reg = linear_model.Ridge(alpha=1)\n",
    "reg.fit(X_train, y_train)\n",
    "pred = reg.predict(X_test)\n",
    "rrdge=[error_bounded(np.column_stack((y_test.values.ravel(),pred)),2,lb)[-1],error_bounded(np.column_stack((y_test.values.ravel(),pred)),lb,ub)[-1],error_bounded(np.column_stack((y_test.values.ravel(),pred)),ub,1000)[-1]]"
   ]
  },
  {
   "cell_type": "code",
   "execution_count": 31,
   "metadata": {},
   "outputs": [],
   "source": [
    "#graph of error vs data size\n",
    "\n",
    "def err_vs_size(train_data,train_width,X_test,y_test,model):\n",
    "    size_ind=np.arange(1,11)*2036\n",
    "    size_ind[-1]=train_data.shape[0]-1\n",
    "    rmse=[]\n",
    "    mpe=[]\n",
    "    for split in size_ind:\n",
    "        split_Xtrain=train_data[:split,:]\n",
    "        split_ytrain=train_width[:split]\n",
    "        model.fit(split_Xtrain,split_ytrain)\n",
    "        pred=model.predict(X_test)\n",
    "        err=error_bounded(np.column_stack((y_test,pred)))\n",
    "        rmse.append(err[0])\n",
    "        mpe.append(err[2])\n",
    "    return [rmse,mpe]\n",
    "\n",
    "def err_vs_size_keras(train_data,train_width,X_test,y_test):\n",
    "    size_ind=np.arange(1,11)*2036\n",
    "    size_ind[-1]=train_data.shape[0]-1\n",
    "    rmse=[]\n",
    "    mpe=[]\n",
    "    for split in size_ind:\n",
    "        split_Xtrain=train_data[:split,:]\n",
    "        split_ytrain=train_width[:split]\n",
    "        keras_model=keras_nn_model(split_Xtrain.shape[1],'relu',100,0)\n",
    "        keras_model.fit(x=split_Xtrain, y=split_ytrain, batch_size=200, epochs=10, verbose=0, validation_split=0, shuffle=True, class_weight=None, sample_weight=None, initial_epoch=0, steps_per_epoch=None, validation_steps=None)\n",
    "        pred=keras_model.predict(X_test, batch_size=None, verbose=0, steps=None)\n",
    "        err=error_bounded(np.column_stack((y_test,pred)))\n",
    "        rmse.append(err[0])\n",
    "        mpe.append(err[2])\n",
    "    return [rmse,mpe]"
   ]
  },
  {
   "cell_type": "code",
   "execution_count": 32,
   "metadata": {},
   "outputs": [],
   "source": [
    "#test error vs data size\n",
    "plots_list={}\n",
    "errors=err_vs_size(X_train.values,y_train.values.ravel(),X_test.values,y_test.values.ravel(),model=linear_model.Ridge())\n",
    "plots_list['Ridge']=errors\n",
    "\n",
    "errors=err_vs_size(X_train.values,y_train.values.ravel(),X_test.values,y_test.values.ravel(),model=MLPRegressor(hidden_layer_sizes=100,activation='relu',solver=\"adam\", max_iter=1000,alpha=1,early_stopping=True,batch_size=200,validation_fraction=0.1,learning_rate='constant',shuffle=True,random_state=42,momentum=0,nesterovs_momentum=False))\n",
    "plots_list['NN']=errors\n",
    "\n",
    "errors=err_vs_size_keras(X_train.values,y_train.values.ravel(),X_test.values,y_test.values.ravel())\n",
    "plots_list['Keras']=errors\n",
    "\n",
    "errors=err_vs_size(X_train.values,y_train.values.ravel(),X_test.values,y_test.values.ravel(),model= RandomForestRegressor(n_estimators = 30, min_samples_split = 68, random_state=42))\n",
    "plots_list['Random Forest']=errors"
   ]
  },
  {
   "cell_type": "code",
   "execution_count": 33,
   "metadata": {},
   "outputs": [
    {
     "data": {
      "image/png": "[encoded data removed]",
      "text/plain": [
       "<Figure size 432x288 with 1 Axes>"
      ]
     },
     "metadata": {},
     "output_type": "display_data"
    }
   ],
   "source": [
    "#plot rmse test error vs data size\n",
    "\n",
    "plt.plot(range(10,110,10),plots_list['Ridge'][0],'r--',label='Ridge')\n",
    "plt.plot(range(10,110,10),plots_list['NN'][0],'b--',label='NN-RMSE')\n",
    "plt.plot(range(10,110,10),plots_list['Random Forest'][0],'g--',label='Random Forest')\n",
    "plt.plot(range(10,110,10),plots_list['Keras'][0],'m--',label='NN-MPE')\n",
    "plt.xlabel('Training Size')\n",
    "plt.ylabel('RMSE')\n",
    "plt.legend(bbox_to_anchor=(0., 1.02, 1., .102), loc=3,\n",
    "           ncol=2, mode=\"expand\", borderaxespad=0.)\n",
    "plt.savefig('plot1.png', bbox_inches='tight')\n",
    "plt.show()\n"
   ]
  },
  {
   "cell_type": "code",
   "execution_count": 34,
   "metadata": {},
   "outputs": [
    {
     "data": {
      "image/png": "[encoded data removed]",
      "text/plain": [
       "<Figure size 432x288 with 1 Axes>"
      ]
     },
     "metadata": {},
     "output_type": "display_data"
    }
   ],
   "source": [
    "#plot mape test error vs data size\n",
    "\n",
    "plt.plot(range(10,110,10),plots_list['Ridge'][1],'r--',label='Ridge')\n",
    "plt.plot(range(10,110,10),plots_list['NN'][1],'b--',label='NN-RMSE')\n",
    "plt.plot(range(10,110,10),plots_list['Random Forest'][1],'g--',label='Random Forest')\n",
    "plt.plot(range(10,110,10),plots_list['Keras'][1],'m--',label='NN-MPE')\n",
    "plt.xlabel('Training Size')\n",
    "plt.ylabel('Mean Percentage Error')\n",
    "plt.legend(bbox_to_anchor=(0., 1.02, 1., .102), loc=3,\n",
    "           ncol=2, mode=\"expand\", borderaxespad=0.)\n",
    "plt.savefig('plot2.png', bbox_inches='tight')\n",
    "\n",
    "plt.show()"
   ]
  },
  {
   "cell_type": "code",
   "execution_count": 35,
   "metadata": {},
   "outputs": [
    {
     "data": {
      "text/plain": [
       "[39.214988785101205, 17.268134537586135, 40.111354377028775]"
      ]
     },
     "execution_count": 35,
     "metadata": {},
     "output_type": "execute_result"
    }
   ],
   "source": [
    "rkeras"
   ]
  },
  {
   "cell_type": "code",
   "execution_count": 36,
   "metadata": {},
   "outputs": [
    {
     "data": {
      "text/plain": [
       "[65.82916931099726, 17.264638918397612, 29.099920368079363]"
      ]
     },
     "execution_count": 36,
     "metadata": {},
     "output_type": "execute_result"
    }
   ],
   "source": [
    "rmlp"
   ]
  },
  {
   "cell_type": "code",
   "execution_count": 37,
   "metadata": {},
   "outputs": [
    {
     "data": {
      "text/plain": [
       "[63.46877030855842, 17.396792080404552, 29.089513545279615]"
      ]
     },
     "execution_count": 37,
     "metadata": {},
     "output_type": "execute_result"
    }
   ],
   "source": [
    "rrf"
   ]
  },
  {
   "cell_type": "code",
   "execution_count": 38,
   "metadata": {},
   "outputs": [
    {
     "data": {
      "text/plain": [
       "[66.61197687846833, 17.733186587395547, 29.401532543435227]"
      ]
     },
     "execution_count": 38,
     "metadata": {},
     "output_type": "execute_result"
    }
   ],
   "source": [
    "rrdge"
   ]
  },
  {
   "cell_type": "code",
   "execution_count": 39,
   "metadata": {},
   "outputs": [],
   "source": [
    "#calculate test mape vs road width\n",
    "\n",
    "bounds=[2,mean-2*std,mean-std,mean,mean+std,mean+2*std,1000]\n",
    "\n",
    "plot_MAPE={}\n",
    "\n",
    "keras_model=keras_nn_model(X_train.shape[1],'relu',100,0)\n",
    "keras_model.fit(x=X_train, y=y_train.values.ravel(), batch_size=200, epochs=10, verbose=0, validation_split=0, shuffle=True, class_weight=None, sample_weight=None, initial_epoch=0, steps_per_epoch=None, validation_steps=None)\n",
    "pred=keras_model.predict(X_test, batch_size=None, verbose=0, steps=None)\n",
    "\n",
    "mape_error=[]\n",
    "for i in range(len(bounds)-1):\n",
    "    mape_error.append(error_bounded(np.column_stack((y_test.values.ravel(),pred)),bounds[i],bounds[i+1])[-1])\n",
    "plot_MAPE['Keras']=mape_error\n",
    "\n",
    "\n",
    "mlp = MLPRegressor(hidden_layer_sizes=100,activation='relu', max_iter=1000, alpha=1, early_stopping=True,random_state=42)\n",
    "mlp.fit(X_train,y_train.values.ravel())\n",
    "pred=mlp.predict(X_test)\n",
    "\n",
    "mape_error=[]\n",
    "for i in range(len(bounds)-1):\n",
    "    mape_error.append(error_bounded(np.column_stack((y_test.values.ravel(),pred)),bounds[i],bounds[i+1])[-1])\n",
    "plot_MAPE['MLP']=mape_error\n",
    "\n",
    "\n",
    "\n",
    "regr = RandomForestRegressor(n_estimators = 30, min_samples_split = 68, random_state=42)\n",
    "regr.fit(X_train,y_train.values.ravel())\n",
    "pred = regr.predict(X_test)\n",
    "mape_error=[]\n",
    "for i in range(len(bounds)-1):\n",
    "    mape_error.append(error_bounded(np.column_stack((y_test.values.ravel(),pred)),bounds[i],bounds[i+1])[-1])\n",
    "plot_MAPE['Random Forest']=mape_error\n",
    "\n",
    "\n",
    "reg = linear_model.Ridge(alpha=1)\n",
    "reg.fit(X_train, y_train)\n",
    "pred = reg.predict(X_test)\n",
    "mape_error=[]\n",
    "for i in range(len(bounds)-1):\n",
    "    mape_error.append(error_bounded(np.column_stack((y_test.values.ravel(),pred)),bounds[i],bounds[i+1])[-1])\n",
    "plot_MAPE['Ridge']=mape_error"
   ]
  },
  {
   "cell_type": "code",
   "execution_count": 40,
   "metadata": {},
   "outputs": [
    {
     "data": {
      "image/png": "[encoded data removed]",
      "text/plain": [
       "<Figure size 432x288 with 1 Axes>"
      ]
     },
     "metadata": {},
     "output_type": "display_data"
    }
   ],
   "source": [
    "#plot test mape vs road width\n",
    "\n",
    "n_groups = len(plot_MAPE['Keras'])\n",
    "\n",
    " \n",
    "# create plot\n",
    "fig, ax = plt.subplots()\n",
    "index = 1.2*np.arange(n_groups)\n",
    "bar_width = 0.3\n",
    "opacity = 0.8\n",
    "\n",
    "rects1 = plt.bar(index, plot_MAPE['MLP'], bar_width,\n",
    "                 alpha=opacity,\n",
    "                 color='g',\n",
    "                 label='NN-RMSE')\n",
    "\n",
    "rects2 = plt.bar(index+ 2*bar_width, plot_MAPE['Keras'], bar_width,\n",
    "                 alpha=opacity,\n",
    "                 color='r',\n",
    "                 label='NN-MAPE')\n",
    "\n",
    "rects2 = plt.bar(index+ bar_width, plot_MAPE['Random Forest'], bar_width,\n",
    "                 alpha=opacity,\n",
    "                 color='k',\n",
    "                 label='Random Forest')\n",
    " \n",
    "plt.xlabel('Road Width')\n",
    "plt.ylabel('MAPE')\n",
    "plt.title('MAPE vs Road Width')\n",
    "plt.xticks(index + bar_width/2, ('2 - 4', '4 - 6.2', '6.2 - 8.3', '8.3 - 10.4', '10.4 - 12.5','12.5+'))\n",
    "plt.legend()\n",
    "\n",
    "plt.tight_layout()\n",
    "plt.savefig('plot_mape.png', bbox_inches='tight')\n",
    "\n",
    "plt.show()"
   ]
  },
  {
   "cell_type": "code",
   "execution_count": 41,
   "metadata": {},
   "outputs": [
    {
     "name": "stdout",
     "output_type": "stream",
     "text": [
      "cv_error:\n",
      "[ 4.07530997  2.49338751 28.73274039]\n",
      "cv_error:\n",
      "[ 3.69721849  2.38070694 33.42367624]\n",
      "cv_error:\n",
      "[ 3.7060942   2.37748113 33.30569785]\n",
      "cv_error:\n",
      "[ 3.73941669  2.43604495 34.40009569]\n"
     ]
    }
   ],
   "source": [
    "#calculate CV mape vs road width\n",
    "bounds=[2,mean-2*std,mean-std,mean,mean+std,mean+2*std,1000]\n",
    "\n",
    "plot_cvMAPE={}\n",
    "\n",
    "keras_model=keras_nn_model(X_train.shape[1],'relu',100,0)\n",
    "keras_model.fit(x=X_train, y=y_train.values.ravel(), batch_size=200, epochs=10, verbose=0, validation_split=0, shuffle=True, class_weight=None, sample_weight=None, initial_epoch=0, steps_per_epoch=None, validation_steps=None)\n",
    "pred=keras_model.predict(X_test, batch_size=None, verbose=0, steps=None)\n",
    "cv,err_matrix=cross_val_keras(X_train, X_test, y_train.values.ravel(), y_test.values.ravel(),100,0,'relu',verbose=0)\n",
    "mape_error=[]\n",
    "for i in range(len(bounds)-1):\n",
    "    mape_error.append(error_bounded(err_matrix,bounds[i],bounds[i+1])[-1])\n",
    "plot_cvMAPE['Keras']=mape_error\n",
    "\n",
    "\n",
    "#mlp=MLPRegressor(hidden_layer_sizes=100,activation='relu',solver=\"adam\", max_iter=1000,alpha=1,early_stopping=True,random_state=42,momentum=0,nesterovs_momentum=False)\n",
    "mlp = MLPRegressor(hidden_layer_sizes=100,activation='relu', max_iter=1000, alpha=1, early_stopping=True,random_state=42)\n",
    "cv,err_matrix=cross_val(X_train.values, X_test.values, y_train.values.ravel(), y_test.values.ravel(),mlp)\n",
    "mape_error=[]\n",
    "for i in range(len(bounds)-1):\n",
    "    mape_error.append(error_bounded(err_matrix,bounds[i],bounds[i+1])[-1])\n",
    "plot_cvMAPE['MLP']=mape_error\n",
    "\n",
    "\n",
    "\n",
    "regr = RandomForestRegressor(n_estimators = 30, min_samples_split = 68, random_state=42)\n",
    "cv,err_matrix=cross_val(X_train.values, X_test.values, y_train.values.ravel(), y_test.values.ravel(),regr)\n",
    "mape_error=[]\n",
    "for i in range(len(bounds)-1):\n",
    "    mape_error.append(error_bounded(err_matrix,bounds[i],bounds[i+1])[-1])\n",
    "plot_cvMAPE['Random Forest']=mape_error\n",
    "\n",
    "\n",
    "reg = linear_model.Ridge(alpha=1)\n",
    "cv,err_matrix=cross_val(X_train.values, X_test.values, y_train.values.ravel(), y_test.values.ravel(),reg)\n",
    "\n",
    "mape_error=[]\n",
    "for i in range(len(bounds)-1):\n",
    "    mape_error.append(error_bounded(err_matrix,bounds[i],bounds[i+1])[-1])\n",
    "plot_cvMAPE['Ridge']=mape_error"
   ]
  },
  {
   "cell_type": "code",
   "execution_count": 42,
   "metadata": {},
   "outputs": [
    {
     "data": {
      "image/png": "[encoded data removed]",
      "text/plain": [
       "<Figure size 432x288 with 1 Axes>"
      ]
     },
     "metadata": {},
     "output_type": "display_data"
    }
   ],
   "source": [
    "#plot CV mape vs road width\n",
    "n_groups = len(plot_MAPE['Keras'])\n",
    "\n",
    " \n",
    "fig, ax = plt.subplots()\n",
    "index = 1.2*np.arange(n_groups)\n",
    "bar_width = 0.3\n",
    "opacity = 0.8\n",
    "\n",
    "rects1 = plt.bar(index, plot_cvMAPE['MLP'], bar_width,\n",
    "                 alpha=opacity,\n",
    "                 color='g',\n",
    "                 label='NN-RMSE')\n",
    "\n",
    "rects2 = plt.bar(index+ 2*bar_width, plot_cvMAPE['Keras'], bar_width,\n",
    "                 alpha=opacity,\n",
    "                 color='r',\n",
    "                 label='NN-MAPE')\n",
    "\n",
    "rects2 = plt.bar(index+ bar_width, plot_cvMAPE['Random Forest'], bar_width,\n",
    "                 alpha=opacity,\n",
    "                 color='k',\n",
    "                 label='Random Forest')\n",
    " \n",
    "plt.xlabel('Road Width')\n",
    "plt.ylabel('CV MAPE')\n",
    "plt.title('CV-MAPE vs Road Width')\n",
    "plt.xticks(index + bar_width/2, ('2 - 4', '4 - 6.2', '6.2 - 8.3', '8.3 - 10.4', '10.4 - 12.5','12.5+'))\n",
    "plt.legend()\n",
    "\n",
    "plt.tight_layout()\n",
    "plt.savefig('plot_cvmape.png', bbox_inches='tight')\n",
    "\n",
    "plt.show()"
   ]
  },
  {
   "cell_type": "code",
   "execution_count": 43,
   "metadata": {},
   "outputs": [],
   "source": [
    "#learn MAPE test error on various road widths\n",
    "from numpy.random import seed\n",
    "seed(42)\n",
    "from tensorflow import set_random_seed\n",
    "set_random_seed(42)\n",
    "\n",
    "test_errors={}\n",
    "keras_model=keras_nn_model(X_train.shape[1],'relu',100,0)\n",
    "keras_model.fit(x=X_train, y=y_train.values.ravel(), batch_size=200, epochs=10, verbose=0, validation_split=0, shuffle=True, class_weight=None, sample_weight=None, initial_epoch=0, steps_per_epoch=None, validation_steps=None)\n",
    "pred=keras_model.predict(X_test, batch_size=None, verbose=0, steps=None)\n",
    "test_errors['Keras']=[error_bounded(np.column_stack((y_test.values.ravel(),pred)))]\n",
    "\n",
    "\"\"\n",
    "mlp = MLPRegressor(hidden_layer_sizes=100,activation='relu', max_iter=1000, alpha=1, early_stopping=True,random_state=42)\n",
    "mlp.fit(X_train,y_train.values.ravel())\n",
    "pred=mlp.predict(X_test)\n",
    "test_errors['MLP']=[error_bounded(np.column_stack((y_test.values.ravel(),pred)))]\n",
    "\n",
    "regr = RandomForestRegressor(n_estimators = 30, min_samples_split = 68, random_state=42)\n",
    "regr.fit(X_train,y_train.values.ravel())\n",
    "pred = regr.predict(X_test)\n",
    "test_errors['Random Forest']=[error_bounded(np.column_stack((y_test.values.ravel(),pred)))]\n",
    "\n",
    "reg = linear_model.LinearRegression()\n",
    "reg.fit(X_train, y_train)\n",
    "pred = reg.predict(X_test)\n",
    "test_errors['OLS']=[error_bounded(np.column_stack((y_test.values.ravel(),pred)))]\n",
    "\n",
    "reg = linear_model.Ridge(alpha=1)\n",
    "reg.fit(X_train, y_train)\n",
    "pred = reg.predict(X_test)\n",
    "test_errors['Ridge']=[error_bounded(np.column_stack((y_test.values.ravel(),pred)))]\n"
   ]
  },
  {
   "cell_type": "code",
   "execution_count": 44,
   "metadata": {},
   "outputs": [
    {
     "data": {
      "text/plain": [
       "{'Keras': [array([ 4.25051561,  2.49219609, 28.37118228])],\n",
       " 'MLP': [array([ 3.89683149,  2.4250556 , 33.98227759])],\n",
       " 'Random Forest': [array([ 3.87809218,  2.39154246, 33.35215076])],\n",
       " 'OLS': [array([ 3.92487715,  2.46244678, 34.54498872])],\n",
       " 'Ridge': [array([ 3.92253609,  2.45965849, 34.5088499 ])]}"
      ]
     },
     "execution_count": 44,
     "metadata": {},
     "output_type": "execute_result"
    }
   ],
   "source": [
    "test_errors"
   ]
  }
 ],
 "metadata": {
  "kernelspec": {
   "display_name": "Python 3",
   "language": "python",
   "name": "python3"
  },
  "language_info": {
   "codemirror_mode": {
    "name": "ipython",
    "version": 3
   },
   "file_extension": ".py",
   "mimetype": "text/x-python",
   "name": "python",
   "nbconvert_exporter": "python",
   "pygments_lexer": "ipython3",
   "version": "3.6.5"
  }
 },
 "nbformat": 4,
 "nbformat_minor": 2
}
